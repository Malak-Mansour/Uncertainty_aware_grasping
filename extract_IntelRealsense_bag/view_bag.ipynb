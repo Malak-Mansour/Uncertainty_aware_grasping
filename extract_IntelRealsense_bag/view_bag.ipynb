{
 "cells": [
  {
   "cell_type": "markdown",
   "metadata": {},
   "source": [
    "# Extract pointclouds"
   ]
  },
  {
   "cell_type": "code",
   "execution_count": null,
   "metadata": {},
   "outputs": [
    {
     "name": "stdout",
     "output_type": "stream",
     "text": [
      "Pipeline stopped.\n"
     ]
    }
   ],
   "source": [
    "import pyrealsense2 as rs\n",
    "import numpy as np\n",
    "import cv2\n",
    "import os\n",
    "\n",
    "# Create folders if they don't exist\n",
    "os.makedirs(\"single_strawberry_real_extracted_rgb\", exist_ok=True)\n",
    "os.makedirs(\"single_strawberry_real_extracted_depth\", exist_ok=True)\n",
    "os.makedirs(\"single_strawberry_real_extracted_pointcloud\", exist_ok=True)\n",
    "\n",
    "\n",
    "# Initialize the pipeline and configure it to read from a .bag file\n",
    "pipeline = rs.pipeline()\n",
    "config = rs.config()\n",
    "config.enable_device_from_file(\"single_strawberry_real.bag\")\n",
    "\n",
    "pipeline.start(config)\n",
    "\n",
    "# Get the depth sensor's depth scale\n",
    "profile = pipeline.get_active_profile()\n",
    "depth_sensor = profile.get_device().first_depth_sensor()\n",
    "depth_scale = depth_sensor.get_depth_scale()\n",
    "\n",
    "# Create an align object\n",
    "align_to = rs.stream.color\n",
    "align = rs.align(align_to)\n",
    "\n",
    "# Frame counter for saving images\n",
    "frame_counter = 0\n",
    "\n",
    "try:\n",
    "    while frame_counter <= 40:\n",
    "        frames = pipeline.wait_for_frames()\n",
    "        aligned_frames = align.process(frames)\n",
    "        depth_frame = aligned_frames.get_depth_frame()\n",
    "        color_frame = aligned_frames.get_color_frame()\n",
    "        \n",
    "        if not depth_frame or not color_frame:\n",
    "            continue\n",
    "        \n",
    "        # Convert frames to numpy arrays\n",
    "        depth_image = np.asanyarray(depth_frame.get_data())\n",
    "        color_image = np.asanyarray(color_frame.get_data())\n",
    "        \n",
    "        # Normalize depth image to 8-bit for visualization\n",
    "        depth_normalized = cv2.normalize(depth_image, None, 0, 255, cv2.NORM_MINMAX, dtype=cv2.CV_8U)\n",
    "        depth_colormap = cv2.applyColorMap(depth_normalized, cv2.COLORMAP_VIRIDIS)\n",
    "        \n",
    "        # Save images using OpenCV\n",
    "        cv2.imwrite(f\"single_strawberry_real_extracted_rgb/color_frame_{frame_counter:04d}.png\", cv2.cvtColor(color_image, cv2.COLOR_RGB2BGR))\n",
    "        cv2.imwrite(f\"single_strawberry_real_extracted_depth/depth_frame_{frame_counter:04d}.png\", depth_colormap)\n",
    "        \n",
    "        # Extract and save point cloud\n",
    "        pc = rs.pointcloud()\n",
    "        points = pc.calculate(depth_frame)\n",
    "        vtx = np.asanyarray(points.get_vertices())\n",
    "        pc.map_to(color_frame)\n",
    "        \n",
    "        np.savetxt(f\"single_strawberry_real_extracted_pointcloud/pointcloud_{frame_counter:04d}.txt\", vtx)\n",
    "        \n",
    "        frame_counter += 1\n",
    "\n",
    "except KeyboardInterrupt:\n",
    "    print(\"Stopped by user.\")\n",
    "\n",
    "finally:\n",
    "    pipeline.stop()\n",
    "    print(\"Pipeline stopped.\")\n"
   ]
  },
  {
   "cell_type": "code",
   "execution_count": 12,
   "metadata": {},
   "outputs": [
    {
     "data": {
      "text/plain": [
       "(480, 640, 3)"
      ]
     },
     "execution_count": 12,
     "metadata": {},
     "output_type": "execute_result"
    }
   ],
   "source": [
    "depth_image = np.asanyarray(depth_frame.get_data())\n",
    "color_image.shape"
   ]
  },
  {
   "cell_type": "code",
   "execution_count": 11,
   "metadata": {},
   "outputs": [
    {
     "data": {
      "text/plain": [
       "307200"
      ]
     },
     "execution_count": 11,
     "metadata": {},
     "output_type": "execute_result"
    }
   ],
   "source": [
    "640*480"
   ]
  }
 ],
 "metadata": {
  "kernelspec": {
   "display_name": "realsense",
   "language": "python",
   "name": "python3"
  },
  "language_info": {
   "codemirror_mode": {
    "name": "ipython",
    "version": 3
   },
   "file_extension": ".py",
   "mimetype": "text/x-python",
   "name": "python",
   "nbconvert_exporter": "python",
   "pygments_lexer": "ipython3",
   "version": "3.9.21"
  }
 },
 "nbformat": 4,
 "nbformat_minor": 2
}
