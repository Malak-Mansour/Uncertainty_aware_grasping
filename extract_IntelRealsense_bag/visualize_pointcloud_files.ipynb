{
 "cells": [
  {
   "cell_type": "markdown",
   "metadata": {},
   "source": [
    "# View .ply pointcloud"
   ]
  },
  {
   "cell_type": "code",
   "execution_count": null,
   "metadata": {},
   "outputs": [],
   "source": [
    "# view all .ply files in some directory \n",
    "\n",
    "\n",
    "import open3d as o3d\n",
    "import numpy as np\n",
    "import os\n",
    "\n",
    "\n",
    "# Directory containing the point cloud files\n",
    "directory=\"D:\\Malak Doc\\Malak Education\\MBZUAI\\Academic years\\Spring 2025\\CV703\\project\\Intel Realsense\\segmented_real_pointcloud\"\n",
    "\n",
    "\n",
    "# List all files in the directory\n",
    "files = os.listdir(directory)\n",
    "\n",
    "# Visualize each point cloud\n",
    "for file in files:\n",
    "    file_path = os.path.join(directory, file)\n",
    "    if file_path.endswith('.ply'):\n",
    "        point_cloud = o3d.io.read_point_cloud(file_path)\n",
    "        o3d.visualization.draw_geometries([point_cloud])"
   ]
  },
  {
   "cell_type": "markdown",
   "metadata": {},
   "source": [
    "# View .txt pointcloud"
   ]
  },
  {
   "cell_type": "code",
   "execution_count": null,
   "metadata": {},
   "outputs": [],
   "source": [
    "import open3d as o3d\n",
    "import numpy as np\n",
    "import os\n",
    "\n",
    "\n",
    "\n",
    "# Function to load a point cloud from a .txt file\n",
    "def load_point_cloud_from_txt(file_path):\n",
    "    points = np.loadtxt(file_path)  # Load the points (x, y, z)\n",
    "    point_cloud = o3d.geometry.PointCloud()\n",
    "    point_cloud.points = o3d.utility.Vector3dVector(points)\n",
    "    return point_cloud\n",
    "\n",
    "# Visualize the point cloud\n",
    "def visualize_point_cloud(file_path):\n",
    "    point_cloud = load_point_cloud_from_txt(file_path)\n",
    "    o3d.visualization.draw_geometries([point_cloud])\n",
    "\n",
    "\n",
    "# view one .txt file\n",
    "# pointcloud_file=\"D:\\Malak Doc\\Malak Education\\MBZUAI\\Academic years\\Spring 2025\\CV703\\project\\Intel Realsense\\extracted_pointcloud\\pointcloud_0008.txt\"\n",
    "# visualize_point_cloud(pointcloud_file)\n",
    "\n",
    "\n",
    "# view all .ply files in some directory \n",
    "directory='real_dataset_extracted_pointcloud'\n",
    "# Loop through all .txt files in the directory and visualize each one\n",
    "for file in os.listdir(directory):\n",
    "    if file.endswith('.txt'):\n",
    "        file_path = os.path.join(directory, file)\n",
    "        visualize_point_cloud(file_path)\n"
   ]
  }
 ],
 "metadata": {
  "kernelspec": {
   "display_name": "realsense",
   "language": "python",
   "name": "python3"
  },
  "language_info": {
   "codemirror_mode": {
    "name": "ipython",
    "version": 3
   },
   "file_extension": ".py",
   "mimetype": "text/x-python",
   "name": "python",
   "nbconvert_exporter": "python",
   "pygments_lexer": "ipython3",
   "version": "3.9.21"
  }
 },
 "nbformat": 4,
 "nbformat_minor": 2
}
